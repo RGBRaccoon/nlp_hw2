{
 "cells": [
  {
   "cell_type": "markdown",
   "metadata": {},
   "source": [
    "# 코드 테스트 돌리는 위치"
   ]
  },
  {
   "cell_type": "code",
   "execution_count": 8,
   "metadata": {},
   "outputs": [],
   "source": [
    "from hw2 import KoreanAutomata\n"
   ]
  },
  {
   "cell_type": "code",
   "execution_count": 6,
   "metadata": {},
   "outputs": [],
   "source": [
    "input_sample=[\n",
    "    [\"ㄷ\", \"ㅁ\", \"ㄱ\", \"ㄹ\",\"ㅎ\", \"ㅍ\", \"ㅏ\", \"ㅏ\", \"ㄴ\", \"ㅁ\", \"ㄹ\", \"ㅇ\"],\n",
    "    [\"ㅁ\",\"ㅏ\",\"ㄴ\",\"ㄷ\",\"ㅜ\",\"ㅁ\",\"ㅏ\",\"ㄱ\",\"ㄱ\",\"ㅗ\",\" \" ,\"ㅅ\",\"ㅣ\",\"ㅍ\",\"ㄷ\",\"ㅏ\",\".\" ],          \n",
    "    [\"ㅁ\", \"ㅏ\", \"ㄴ\", \"ㄷ\", \"ㅜ\", \" \", \"ㅅ\", \"ㅣ\", \"ㅍ\", \"ㄷ\", \"ㅏ\", \" \", \"ㄱ\", \"ㅏ\", \"ㄱ\", \"ㅏ\", \".\"],\n",
    "    [\"ㅈ\", \"ㅓ\", \"ㄹ\",\"ㄱ\", \"ㅎ\", \"ㅏ\", \"ㄴ\", \" \", \"ㅅ\", \"ㅏ\", \"ㄹ\", \"ㅏ\", \"ㅁ\", \" \", \"ㅇ\", \"ㅣ\", \"ㅂ\", \"ㄴ\", \"ㅣ\", \"ㄷ\", \"ㅏ\", \".\"]\n",
    "    ]\n"
   ]
  },
  {
   "cell_type": "code",
   "execution_count": 10,
   "metadata": {},
   "outputs": [
    {
     "name": "stdout",
     "output_type": "stream",
     "text": [
      "ㄷㅁㄱㄹㅎ파ㅏㄴㅁㄹㅇ\n",
      "만두막고 싶다.\n",
      "만두 싶다 가가.\n",
      "절ㄱ한 사람 입니다.\n"
     ]
    }
   ],
   "source": [
    "\n",
    "for text in input_sample:\n",
    "    korean_automata = KoreanAutomata()\n",
    "    \n",
    "    korean_automata.action(text)\n"
   ]
  }
 ],
 "metadata": {
  "kernelspec": {
   "display_name": "base",
   "language": "python",
   "name": "python3"
  },
  "language_info": {
   "codemirror_mode": {
    "name": "ipython",
    "version": 3
   },
   "file_extension": ".py",
   "mimetype": "text/x-python",
   "name": "python",
   "nbconvert_exporter": "python",
   "pygments_lexer": "ipython3",
   "version": "3.12.4"
  }
 },
 "nbformat": 4,
 "nbformat_minor": 2
}
